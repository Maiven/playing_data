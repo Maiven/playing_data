{
 "cells": [
  {
   "cell_type": "markdown",
   "metadata": {},
   "source": [
    "# 4장 인터넷에서 데이터를 얻어서 엑셀로 정리해보자\n"
   ]
  },
  {
   "cell_type": "markdown",
   "metadata": {},
   "source": [
    "## 4-2. 네이버 API 간단히 사용해보기"
   ]
  },
  {
   "cell_type": "code",
   "execution_count": 1,
   "metadata": {},
   "outputs": [],
   "source": [
    "import urllib.request\n",
    "client_id = \" -------------- \"\n",
    "client_secret = \" ------------- \""
   ]
  },
  {
   "cell_type": "code",
   "execution_count": 2,
   "metadata": {},
   "outputs": [
    {
     "data": {
      "text/plain": [
       "'https://openapi.naver.com/v1/search/blog.json?query=pinkwink'"
      ]
     },
     "execution_count": 2,
     "metadata": {},
     "output_type": "execute_result"
    }
   ],
   "source": [
    "encText = urllib.parse.quote(\"pinkwink\")\n",
    "url = \"https://openapi.naver.com/v1/search/blog.json?query=\" + encText\n",
    "url"
   ]
  },
  {
   "cell_type": "code",
   "execution_count": 3,
   "metadata": {},
   "outputs": [],
   "source": [
    "request = urllib.request.Request(url)\n",
    "request.add_header(\"X-Naver-Client-Id\", client_id)\n",
    "request.add_header(\"X-Naver-Client-Secret\", client_secret)"
   ]
  },
  {
   "cell_type": "code",
   "execution_count": 4,
   "metadata": {},
   "outputs": [
    {
     "name": "stdout",
     "output_type": "stream",
     "text": [
      "200\n"
     ]
    }
   ],
   "source": [
    "response = urllib.request.urlopen(request)\n",
    "print(response.getcode())"
   ]
  },
  {
   "cell_type": "code",
   "execution_count": 5,
   "metadata": {},
   "outputs": [
    {
     "data": {
      "text/plain": [
       "http.client.HTTPResponse"
      ]
     },
     "execution_count": 5,
     "metadata": {},
     "output_type": "execute_result"
    }
   ],
   "source": [
    "type(response)"
   ]
  },
  {
   "cell_type": "code",
   "execution_count": 6,
   "metadata": {
    "scrolled": false
   },
   "outputs": [
    {
     "name": "stdout",
     "output_type": "stream",
     "text": [
      "{\n",
      "\"lastBuildDate\": \"Wed, 12 Jun 2019 18:10:54 +0900\",\n",
      "\"total\": 1495,\n",
      "\"start\": 1,\n",
      "\"display\": 10,\n",
      "\"items\": [\n",
      "{\n",
      "\"title\": \"<b>PinkWink</b>의 데이터 사이언스 관련 책이 출판됩니다.... \",\n",
      "\"link\": \"https://pinkwink.kr/1070\",\n",
      "\"description\": \"<b>PinkWink</b> ' Theory &gt; Review ' 카테고리의 다른 글 책리뷰) 엣지있게 설명한 텐서플로우 (24) 2018.01.22 책리뷰) 딥러닝 부트캠프 with 케라스 (28) 2018.01.11 책 리뷰) Wolfram 언어 기초 입문 (4) 2017.12.26 <b>PinkWink</b>의... \",\n",
      "\"bloggername\": \"PinkWink\",\n",
      "\"bloggerlink\": \"https://pinkwink.kr/\",\n",
      "\"postdate\": \"20171220\"\n",
      "\n",
      "},\n",
      "{\n",
      "\"title\": \"<b>PinkWink</b> 블로그에서 온 선물..\",\n",
      "\"link\": \"https:\\/\\/blog.naver.com\\/chandong83?Redirect=Log&logNo=221531853244\",\n",
      "\"description\": \"<b>PinkWink</b> 한 변두리 공학도의 블로그입니다. 재미있어 보이는 것들을 모두 기초스럽게 접근하는 블로그이며... 그보다 더욱 소중한 우리 아가 미바뤼의 발자취를 남겨두는 블로그이기도 합니다. <b>pinkwink</b>.kr... \",\n",
      "\"bloggername\": \"하이! 제니스\",\n",
      "\"bloggerlink\": \"https://blog.naver.com/chandong83\",\n",
      "\"postdate\": \"20190507\"\n",
      "\n",
      "},\n",
      "{\n",
      "\"title\": \"[<b>pinkwink</b>님-구매후기]\",\n",
      "\"link\": \"https:\\/\\/blog.naver.com\\/monetchou?Redirect=Log&logNo=150182740062\",\n",
      "\"description\": \"친구들 중에 강아지 키우는 아이들에겐 연말선물로 강아지옷선물했는데. 이옷너무 이쁘다고.맘에 든다고 해주어서 저도 으쓱해졌습니다. 옷입고 포즈도 잘취해주고.귀엽죠? 덕분에...저... \",\n",
      "\"bloggername\": \"몽에슈\",\n",
      "\"bloggerlink\": \"https://blog.naver.com/monetchou\",\n",
      "\"postdate\": \"20140110\"\n",
      "\n",
      "},\n",
      "{\n",
      "\"title\": \"<b>PinkWink</b>님의 미바뤼 돌촬영 후기 :)\",\n",
      "\"link\": \"https:\\/\\/blog.naver.com\\/creta01?Redirect=Log&logNo=220191244266\",\n",
      "\"description\": \"원본출처 : <b>PinkWink</b>님 블로그 :) http://<b>pinkwink</b>.kr/678\",\n",
      "\"bloggername\": \"A moment in life\",\n",
      "\"bloggerlink\": \"https://blog.naver.com/creta01\",\n",
      "\"postdate\": \"20141125\"\n",
      "\n",
      "},\n",
      "{\n",
      "\"title\": \"http://<b>pinkwink</b>.kr/218\",\n",
      "\"link\": \"https:\\/\\/blog.naver.com\\/2danzee?Redirect=Log&logNo=220548423642\",\n",
      "\"description\": \"http://<b>pinkwink</b>.kr/218\",\n",
      "\"bloggername\": \"2danzee님의블로그\",\n",
      "\"bloggerlink\": \"https://blog.naver.com/2danzee\",\n",
      "\"postdate\": \"20151124\"\n",
      "\n",
      "},\n",
      "{\n",
      "\"title\": \"가속도센서 http://<b>pinkwink</b>.kr/\",\n",
      "\"link\": \"https:\\/\\/blog.naver.com\\/kangusreport?Redirect=Log&logNo=220113562421\",\n",
      "\"description\": \"http://<b>pinkwink</b>.kr/73#.VAhkaL2wfcs\",\n",
      "\"bloggername\": \"Dex Note\",\n",
      "\"bloggerlink\": \"https://blog.naver.com/kangusreport\",\n",
      "\"postdate\": \"20140904\"\n",
      "\n",
      "},\n",
      "{\n",
      "\"title\": \"고유값과 고유벡터, 그리고 직교행렬 - http://<b>pinkwink</b>.kr/\",\n",
      "\"link\": \"https://economicslab.tistory.com/12064\",\n",
      "\"description\": \"http://<b>pinkwink</b>.kr/185 공감 sns 신고 저작자표시 비영리 변경금지\",\n",
      "\"bloggername\": \"Jaeseong's Infinite Post! 재성이의 무한 포스트!\",\n",
      "\"bloggerlink\": \"http://economicslab.tistory.com/\",\n",
      "\"postdate\": \"20120925\"\n",
      "\n",
      "},\n",
      "{\n",
      "\"title\": \"<b>PinkWink</b>의 데이터 사이언스 관련 책이 출판됩니다.... \",\n",
      "\"link\": \"https://pinkwink.kr/1070?category=580892\",\n",
      "\"description\": \"26 <b>PinkWink</b>의 데이터 사이언스 관련 책이 출판됩니다. - 파이썬으로 데이터 주무르기 (68) 2017.12.20 수술용 로봇 다빈치의 리서치 킷을 이용한 오픈 소스 플랫폼 개발에 관련된 논문 (6) 2016.05.18 길... \",\n",
      "\"bloggername\": \"PinkWink\",\n",
      "\"bloggerlink\": \"https://pinkwink.kr/\",\n",
      "\"postdate\": \"20171220\"\n",
      "\n",
      "},\n",
      "{\n",
      "\"title\": \"[<b>pinkwink</b>님-구매후기]이모네 고양이에게 연말선물로 ^^*\",\n",
      "\"link\": \"https:\\/\\/blog.naver.com\\/monetchou?Redirect=Log&logNo=150182739693\",\n",
      "\"description\": \"보리에게 연말선물로 옷한벌 사주었습니다 어릴때 부터 집안에서 키운아이라 처음 입어보는 옷인데도 자기옷인양 얌전히 입고 있구요 동네 어르신들이 더 이뻐졌다고 ...인기절정이랍니다..... \",\n",
      "\"bloggername\": \"몽에슈\",\n",
      "\"bloggerlink\": \"https://blog.naver.com/monetchou\",\n",
      "\"postdate\": \"20140110\"\n",
      "\n",
      "},\n",
      "{\n",
      "\"title\": \"<b>PinkWink</b> 새 책, 누구나 파이썬 Python을 또 출판했습니다.\",\n",
      "\"link\": \"https://pinkwink.kr/1221\",\n",
      "\"description\": \"좋아요 공감 공유하기 글 요소 구독하기 <b>PinkWink</b> 저작자표시 ' Theory &gt; Review ' 카테고리의 다른 글 <b>PinkWink</b> 새 책, 누구나 파이썬 Python을 또 출판했습니다. (4) 2019.06.07 책리뷰) 엣지있게 설명한... \",\n",
      "\"bloggername\": \"PinkWink\",\n",
      "\"bloggerlink\": \"https://pinkwink.kr/\",\n",
      "\"postdate\": \"20190607\"\n",
      "\n",
      "}\n",
      "]\n",
      "}\n",
      "\n"
     ]
    }
   ],
   "source": [
    "print(response.read().decode('utf-8'))"
   ]
  },
  {
   "cell_type": "markdown",
   "metadata": {},
   "source": [
    "## 4-3. 파이썬의 반복문"
   ]
  },
  {
   "cell_type": "code",
   "execution_count": 7,
   "metadata": {},
   "outputs": [
    {
     "name": "stdout",
     "output_type": "stream",
     "text": [
      "1\n",
      "2\n",
      "3\n"
     ]
    }
   ],
   "source": [
    "for n in [1,2,3]:\n",
    "    print(n)"
   ]
  },
  {
   "cell_type": "code",
   "execution_count": 8,
   "metadata": {},
   "outputs": [
    {
     "name": "stdout",
     "output_type": "stream",
     "text": [
      "1\n",
      "4\n",
      "9\n",
      "16\n",
      "25\n"
     ]
    }
   ],
   "source": [
    "for n in [1,2,3,4,5]:\n",
    "    print(n**2)"
   ]
  },
  {
   "cell_type": "code",
   "execution_count": 9,
   "metadata": {},
   "outputs": [
    {
     "data": {
      "text/plain": [
       "[1, 4, 9, 16, 25]"
      ]
     },
     "execution_count": 9,
     "metadata": {},
     "output_type": "execute_result"
    }
   ],
   "source": [
    "[n**2 for n in range(1,6)]"
   ]
  },
  {
   "cell_type": "markdown",
   "metadata": {},
   "source": [
    "## 4-4. 함수의 사용"
   ]
  },
  {
   "cell_type": "code",
   "execution_count": 10,
   "metadata": {},
   "outputs": [],
   "source": [
    "def get_square(n):\n",
    "    return n**2"
   ]
  },
  {
   "cell_type": "code",
   "execution_count": 11,
   "metadata": {},
   "outputs": [
    {
     "data": {
      "text/plain": [
       "[1, 4, 9, 16]"
      ]
     },
     "execution_count": 11,
     "metadata": {},
     "output_type": "execute_result"
    }
   ],
   "source": [
    "[get_square(n) for n in [1,2,3,4]]"
   ]
  },
  {
   "cell_type": "markdown",
   "metadata": {},
   "source": [
    "## 4-5. 네이버 책 검색에서 정보 가져오기"
   ]
  },
  {
   "cell_type": "code",
   "execution_count": 12,
   "metadata": {},
   "outputs": [],
   "source": [
    "def create_url(api_node, search_text, start_num, disp_num):\n",
    "    base = \"https://openapi.naver.com/v1/search\"\n",
    "    node = \"/\" + api_node + \".json\"\n",
    "    param_query = \"?query=\" + urllib.parse.quote(search_text)\n",
    "    param_start = \"&start=\" + str(start_num)\n",
    "    param_disp = \"&display=\" + str(disp_num)\n",
    "\n",
    "    return base + node + param_query + param_start + param_disp"
   ]
  },
  {
   "cell_type": "code",
   "execution_count": 13,
   "metadata": {},
   "outputs": [
    {
     "data": {
      "text/plain": [
       "'https://openapi.naver.com/v1/search/book.json?query=TEST&start=1&display=10'"
      ]
     },
     "execution_count": 13,
     "metadata": {},
     "output_type": "execute_result"
    }
   ],
   "source": [
    "create_url(\"book\", \"TEST\", 1, 10)"
   ]
  },
  {
   "cell_type": "code",
   "execution_count": 14,
   "metadata": {},
   "outputs": [
    {
     "data": {
      "text/plain": [
       "{'lastBuildDate': 'Wed, 12 Jun 2019 18:10:54 +0900',\n",
       " 'total': 831,\n",
       " 'start': 1,\n",
       " 'display': 3,\n",
       " 'items': [{'title': '모두의 <b>파이썬</b> (20일 만에 배우는 프로그래밍 기초)',\n",
       "   'link': 'http://book.naver.com/bookdb/book_detail.php?bid=14126163',\n",
       "   'image': 'https://bookthumb-phinf.pstatic.net/cover/141/261/14126163.jpg?type=m1&udate=20181105',\n",
       "   'author': '이승찬',\n",
       "   'price': '12000',\n",
       "   'discount': '10800',\n",
       "   'publisher': '길벗',\n",
       "   'pubdate': '20181009',\n",
       "   'isbn': '1160505853 9791160505856',\n",
       "   'description': '<b>파이썬</b> 분야 & 어린이 코딩 교육 분야\\n2년 연속 베스트셀러! 개정판 출간!\\n\\n즐겁게 시작하는 나의 첫 프로그래밍!\\n프로그래밍을 한 번도 해본 적이 없어도 괜찮다. <b>파이썬</b>이 무엇인지 몰라도 상관 없다.... 어느새 <b>파이썬</b> 프로그램으로 멋진 그림을 그리고, 계산을 하고, 간단한 게임을 만들고, 수학 문제를... '},\n",
       "  {'title': '<b>파이썬</b>으로 데이터 주무르기 (독특한 예제를 통해 배우는 데이터 분석 입문)',\n",
       "   'link': 'http://book.naver.com/bookdb/book_detail.php?bid=12898027',\n",
       "   'image': 'https://bookthumb-phinf.pstatic.net/cover/128/980/12898027.jpg?type=m1&udate=20190518',\n",
       "   'author': '민형기',\n",
       "   'price': '27500',\n",
       "   'discount': '24750',\n",
       "   'publisher': '비제이퍼블릭',\n",
       "   'pubdate': '20171229',\n",
       "   'isbn': '1186697474 9791186697474',\n",
       "   'description': '있을 <b>파이썬</b> 기초 문법책과 같은 내용이 아닌, 데이터 분석이라는 특별한 분야에서 초보를 위해 처음부터 끝까지 <b>파이썬</b>으로 진행되는 과정을 다룹니다. 서울시 범죄 현황 분석, 셀프 주유소 가격 정보 분석, 19대 대선 결과 분석 등 흥미 있는 목표를 이루기 위해서 <b>파이썬</b>의 기초를 익히고, 데이터를 다루고... '},\n",
       "  {'title': '<b>파이썬</b> 웹 프로그래밍 (Django장고로 배우는 쉽고 빠른 웹 개발)',\n",
       "   'link': 'http://book.naver.com/bookdb/book_detail.php?bid=13878877',\n",
       "   'image': 'https://bookthumb-phinf.pstatic.net/cover/138/788/13878877.jpg?type=m1&udate=20190204',\n",
       "   'author': '김석훈',\n",
       "   'price': '22000',\n",
       "   'discount': '19800',\n",
       "   'publisher': '한빛미디어',\n",
       "   'pubdate': '20180817',\n",
       "   'isbn': '1162241047 9791162241042',\n",
       "   'description': 'Django 웹 프로그래밍 대표 도서, 『<b>파이썬</b> 웹 프로그래밍』의 최신 개정판! 2015년 첫 출간 즉시, 장고 웹 프로그래밍 대표 도서로 자리매김한 『<b>파이썬</b> 웹 프로그래밍』, 기존 도서의 장점은 살리고, <b>파이썬</b> 3.x 버전과 장고 2.x 버전 및 독자의 피드백을 반영하여 업그레이드된 개정판으로 돌아왔다. 이... '}]}"
      ]
     },
     "execution_count": 14,
     "metadata": {},
     "output_type": "execute_result"
    }
   ],
   "source": [
    "import json\n",
    "\n",
    "client_id = \"bWp3ZxMXpDaJcmLzcetv\"\n",
    "client_secret = \"YmdlrBL8vD\"\n",
    "    \n",
    "url = create_url(\"book\", \"파이썬\", 1, 3)\n",
    "    \n",
    "request = urllib.request.Request(url)\n",
    "request.add_header(\"X-Naver-Client-Id\", client_id)\n",
    "request.add_header(\"X-Naver-Client-Secret\", client_secret)\n",
    "    \n",
    "response = urllib.request.urlopen(request)\n",
    "\n",
    "result = json.loads(response.read().decode('utf-8'))\n",
    "result"
   ]
  },
  {
   "cell_type": "code",
   "execution_count": 15,
   "metadata": {},
   "outputs": [
    {
     "data": {
      "text/plain": [
       "3"
      ]
     },
     "execution_count": 15,
     "metadata": {},
     "output_type": "execute_result"
    }
   ],
   "source": [
    "result['display']"
   ]
  },
  {
   "cell_type": "code",
   "execution_count": 16,
   "metadata": {},
   "outputs": [
    {
     "data": {
      "text/plain": [
       "[{'title': '모두의 <b>파이썬</b> (20일 만에 배우는 프로그래밍 기초)',\n",
       "  'link': 'http://book.naver.com/bookdb/book_detail.php?bid=14126163',\n",
       "  'image': 'https://bookthumb-phinf.pstatic.net/cover/141/261/14126163.jpg?type=m1&udate=20181105',\n",
       "  'author': '이승찬',\n",
       "  'price': '12000',\n",
       "  'discount': '10800',\n",
       "  'publisher': '길벗',\n",
       "  'pubdate': '20181009',\n",
       "  'isbn': '1160505853 9791160505856',\n",
       "  'description': '<b>파이썬</b> 분야 & 어린이 코딩 교육 분야\\n2년 연속 베스트셀러! 개정판 출간!\\n\\n즐겁게 시작하는 나의 첫 프로그래밍!\\n프로그래밍을 한 번도 해본 적이 없어도 괜찮다. <b>파이썬</b>이 무엇인지 몰라도 상관 없다.... 어느새 <b>파이썬</b> 프로그램으로 멋진 그림을 그리고, 계산을 하고, 간단한 게임을 만들고, 수학 문제를... '},\n",
       " {'title': '<b>파이썬</b>으로 데이터 주무르기 (독특한 예제를 통해 배우는 데이터 분석 입문)',\n",
       "  'link': 'http://book.naver.com/bookdb/book_detail.php?bid=12898027',\n",
       "  'image': 'https://bookthumb-phinf.pstatic.net/cover/128/980/12898027.jpg?type=m1&udate=20190518',\n",
       "  'author': '민형기',\n",
       "  'price': '27500',\n",
       "  'discount': '24750',\n",
       "  'publisher': '비제이퍼블릭',\n",
       "  'pubdate': '20171229',\n",
       "  'isbn': '1186697474 9791186697474',\n",
       "  'description': '있을 <b>파이썬</b> 기초 문법책과 같은 내용이 아닌, 데이터 분석이라는 특별한 분야에서 초보를 위해 처음부터 끝까지 <b>파이썬</b>으로 진행되는 과정을 다룹니다. 서울시 범죄 현황 분석, 셀프 주유소 가격 정보 분석, 19대 대선 결과 분석 등 흥미 있는 목표를 이루기 위해서 <b>파이썬</b>의 기초를 익히고, 데이터를 다루고... '},\n",
       " {'title': '<b>파이썬</b> 웹 프로그래밍 (Django장고로 배우는 쉽고 빠른 웹 개발)',\n",
       "  'link': 'http://book.naver.com/bookdb/book_detail.php?bid=13878877',\n",
       "  'image': 'https://bookthumb-phinf.pstatic.net/cover/138/788/13878877.jpg?type=m1&udate=20190204',\n",
       "  'author': '김석훈',\n",
       "  'price': '22000',\n",
       "  'discount': '19800',\n",
       "  'publisher': '한빛미디어',\n",
       "  'pubdate': '20180817',\n",
       "  'isbn': '1162241047 9791162241042',\n",
       "  'description': 'Django 웹 프로그래밍 대표 도서, 『<b>파이썬</b> 웹 프로그래밍』의 최신 개정판! 2015년 첫 출간 즉시, 장고 웹 프로그래밍 대표 도서로 자리매김한 『<b>파이썬</b> 웹 프로그래밍』, 기존 도서의 장점은 살리고, <b>파이썬</b> 3.x 버전과 장고 2.x 버전 및 독자의 피드백을 반영하여 업그레이드된 개정판으로 돌아왔다. 이... '}]"
      ]
     },
     "execution_count": 16,
     "metadata": {},
     "output_type": "execute_result"
    }
   ],
   "source": [
    "result['items']"
   ]
  },
  {
   "cell_type": "code",
   "execution_count": 17,
   "metadata": {},
   "outputs": [
    {
     "data": {
      "text/plain": [
       "3"
      ]
     },
     "execution_count": 17,
     "metadata": {},
     "output_type": "execute_result"
    }
   ],
   "source": [
    "len(result['items'])"
   ]
  },
  {
   "cell_type": "code",
   "execution_count": 18,
   "metadata": {},
   "outputs": [
    {
     "data": {
      "text/plain": [
       "['모두의 <b>파이썬</b> (20일 만에 배우는 프로그래밍 기초)',\n",
       " '<b>파이썬</b>으로 데이터 주무르기 (독특한 예제를 통해 배우는 데이터 분석 입문)',\n",
       " '<b>파이썬</b> 웹 프로그래밍 (Django장고로 배우는 쉽고 빠른 웹 개발)']"
      ]
     },
     "execution_count": 18,
     "metadata": {},
     "output_type": "execute_result"
    }
   ],
   "source": [
    "titles = [result['items'][n]['title'] for n in range(3)]\n",
    "titles"
   ]
  },
  {
   "cell_type": "code",
   "execution_count": 19,
   "metadata": {},
   "outputs": [
    {
     "data": {
      "text/plain": [
       "['이승찬', '민형기', '김석훈']"
      ]
     },
     "execution_count": 19,
     "metadata": {},
     "output_type": "execute_result"
    }
   ],
   "source": [
    "authors = [result['items'][n]['author'] for n in range(3)]\n",
    "authors"
   ]
  },
  {
   "cell_type": "code",
   "execution_count": 20,
   "metadata": {},
   "outputs": [
    {
     "data": {
      "text/plain": [
       "['20181009', '20171229', '20180817']"
      ]
     },
     "execution_count": 20,
     "metadata": {},
     "output_type": "execute_result"
    }
   ],
   "source": [
    "pubdates = [result['items'][n]['pubdate'] for n in range(3)]\n",
    "pubdates"
   ]
  },
  {
   "cell_type": "code",
   "execution_count": 21,
   "metadata": {},
   "outputs": [
    {
     "data": {
      "text/html": [
       "<div>\n",
       "<style scoped>\n",
       "    .dataframe tbody tr th:only-of-type {\n",
       "        vertical-align: middle;\n",
       "    }\n",
       "\n",
       "    .dataframe tbody tr th {\n",
       "        vertical-align: top;\n",
       "    }\n",
       "\n",
       "    .dataframe thead th {\n",
       "        text-align: right;\n",
       "    }\n",
       "</style>\n",
       "<table border=\"1\" class=\"dataframe\">\n",
       "  <thead>\n",
       "    <tr style=\"text-align: right;\">\n",
       "      <th></th>\n",
       "      <th>책제목</th>\n",
       "      <th>작가</th>\n",
       "      <th>출판일</th>\n",
       "    </tr>\n",
       "  </thead>\n",
       "  <tbody>\n",
       "    <tr>\n",
       "      <th>0</th>\n",
       "      <td>모두의 &lt;b&gt;파이썬&lt;/b&gt; (20일 만에 배우는 프로그래밍 기초)</td>\n",
       "      <td>이승찬</td>\n",
       "      <td>20181009</td>\n",
       "    </tr>\n",
       "    <tr>\n",
       "      <th>1</th>\n",
       "      <td>&lt;b&gt;파이썬&lt;/b&gt;으로 데이터 주무르기 (독특한 예제를 통해 배우는 데이터 분석 입문)</td>\n",
       "      <td>민형기</td>\n",
       "      <td>20171229</td>\n",
       "    </tr>\n",
       "    <tr>\n",
       "      <th>2</th>\n",
       "      <td>&lt;b&gt;파이썬&lt;/b&gt; 웹 프로그래밍 (Django장고로 배우는 쉽고 빠른 웹 개발)</td>\n",
       "      <td>김석훈</td>\n",
       "      <td>20180817</td>\n",
       "    </tr>\n",
       "  </tbody>\n",
       "</table>\n",
       "</div>"
      ],
      "text/plain": [
       "                                                책제목   작가       출판일\n",
       "0              모두의 <b>파이썬</b> (20일 만에 배우는 프로그래밍 기초)  이승찬  20181009\n",
       "1  <b>파이썬</b>으로 데이터 주무르기 (독특한 예제를 통해 배우는 데이터 분석 입문)  민형기  20171229\n",
       "2     <b>파이썬</b> 웹 프로그래밍 (Django장고로 배우는 쉽고 빠른 웹 개발)  김석훈  20180817"
      ]
     },
     "execution_count": 21,
     "metadata": {},
     "output_type": "execute_result"
    }
   ],
   "source": [
    "import pandas as pd\n",
    "\n",
    "pd.DataFrame({'책제목':titles, '작가':authors, '출판일':pubdates})"
   ]
  },
  {
   "cell_type": "code",
   "execution_count": 22,
   "metadata": {},
   "outputs": [],
   "source": [
    "def get_dataframe(url):\n",
    "    client_id = \"bWp3ZxMXpDaJcmLzcetv\"\n",
    "    client_secret = \"YmdlrBL8vD\"\n",
    "    \n",
    "    request = urllib.request.Request(url)\n",
    "    request.add_header(\"X-Naver-Client-Id\", client_id)\n",
    "    request.add_header(\"X-Naver-Client-Secret\", client_secret)\n",
    "    \n",
    "    response = urllib.request.urlopen(request)\n",
    "\n",
    "    result = json.loads(response.read().decode('utf-8'))\n",
    "    \n",
    "    end_num = result['display']\n",
    "    \n",
    "    titles = [result['items'][n]['title'] for n in range(end_num)]\n",
    "    authors = [result['items'][n]['author'] for n in range(end_num)]\n",
    "    pubdates = [result['items'][n]['pubdate'] for n in range(end_num)]\n",
    "    \n",
    "    return pd.DataFrame({'책제목':titles, '작가':authors, '출판일':pubdates})"
   ]
  },
  {
   "cell_type": "code",
   "execution_count": 23,
   "metadata": {},
   "outputs": [
    {
     "data": {
      "text/html": [
       "<div>\n",
       "<style scoped>\n",
       "    .dataframe tbody tr th:only-of-type {\n",
       "        vertical-align: middle;\n",
       "    }\n",
       "\n",
       "    .dataframe tbody tr th {\n",
       "        vertical-align: top;\n",
       "    }\n",
       "\n",
       "    .dataframe thead th {\n",
       "        text-align: right;\n",
       "    }\n",
       "</style>\n",
       "<table border=\"1\" class=\"dataframe\">\n",
       "  <thead>\n",
       "    <tr style=\"text-align: right;\">\n",
       "      <th></th>\n",
       "      <th>책제목</th>\n",
       "      <th>작가</th>\n",
       "      <th>출판일</th>\n",
       "    </tr>\n",
       "  </thead>\n",
       "  <tbody>\n",
       "    <tr>\n",
       "      <th>0</th>\n",
       "      <td>모두의 &lt;b&gt;파이썬&lt;/b&gt; (20일 만에 배우는 프로그래밍 기초)</td>\n",
       "      <td>이승찬</td>\n",
       "      <td>20181009</td>\n",
       "    </tr>\n",
       "    <tr>\n",
       "      <th>1</th>\n",
       "      <td>&lt;b&gt;파이썬&lt;/b&gt;으로 데이터 주무르기 (독특한 예제를 통해 배우는 데이터 분석 입문)</td>\n",
       "      <td>민형기</td>\n",
       "      <td>20171229</td>\n",
       "    </tr>\n",
       "    <tr>\n",
       "      <th>2</th>\n",
       "      <td>&lt;b&gt;파이썬&lt;/b&gt; 웹 프로그래밍 (Django장고로 배우는 쉽고 빠른 웹 개발)</td>\n",
       "      <td>김석훈</td>\n",
       "      <td>20180817</td>\n",
       "    </tr>\n",
       "  </tbody>\n",
       "</table>\n",
       "</div>"
      ],
      "text/plain": [
       "                                                책제목   작가       출판일\n",
       "0              모두의 <b>파이썬</b> (20일 만에 배우는 프로그래밍 기초)  이승찬  20181009\n",
       "1  <b>파이썬</b>으로 데이터 주무르기 (독특한 예제를 통해 배우는 데이터 분석 입문)  민형기  20171229\n",
       "2     <b>파이썬</b> 웹 프로그래밍 (Django장고로 배우는 쉽고 빠른 웹 개발)  김석훈  20180817"
      ]
     },
     "execution_count": 23,
     "metadata": {},
     "output_type": "execute_result"
    }
   ],
   "source": [
    "get_dataframe(url)"
   ]
  },
  {
   "cell_type": "code",
   "execution_count": 24,
   "metadata": {},
   "outputs": [],
   "source": [
    "def delete_tag(input_str):\n",
    "    input_str = input_str.replace(\"<b>\", \"\")\n",
    "    input_str = input_str.replace(\"</b>\", \"\")\n",
    "    return input_str"
   ]
  },
  {
   "cell_type": "code",
   "execution_count": 25,
   "metadata": {},
   "outputs": [],
   "source": [
    "def get_dataframe(url):\n",
    "    client_id = \"bWp3ZxMXpDaJcmLzcetv\"\n",
    "    client_secret = \"YmdlrBL8vD\"\n",
    "    \n",
    "    request = urllib.request.Request(url)\n",
    "    request.add_header(\"X-Naver-Client-Id\", client_id)\n",
    "    request.add_header(\"X-Naver-Client-Secret\", client_secret)\n",
    "    \n",
    "    response = urllib.request.urlopen(request)\n",
    "\n",
    "    result = json.loads(response.read().decode('utf-8'))\n",
    "    \n",
    "    end_num = result['display']\n",
    "    \n",
    "    titles = [delete_tag(result['items'][n]['title']) for n in range(end_num)]\n",
    "    authors = [result['items'][n]['author'] for n in range(end_num)]\n",
    "    pubdates = [result['items'][n]['pubdate'] for n in range(end_num)]\n",
    "\n",
    "    return pd.DataFrame({'책제목':titles, '작가':authors, '출판일':pubdates})"
   ]
  },
  {
   "cell_type": "code",
   "execution_count": 26,
   "metadata": {},
   "outputs": [
    {
     "data": {
      "text/html": [
       "<div>\n",
       "<style scoped>\n",
       "    .dataframe tbody tr th:only-of-type {\n",
       "        vertical-align: middle;\n",
       "    }\n",
       "\n",
       "    .dataframe tbody tr th {\n",
       "        vertical-align: top;\n",
       "    }\n",
       "\n",
       "    .dataframe thead th {\n",
       "        text-align: right;\n",
       "    }\n",
       "</style>\n",
       "<table border=\"1\" class=\"dataframe\">\n",
       "  <thead>\n",
       "    <tr style=\"text-align: right;\">\n",
       "      <th></th>\n",
       "      <th>책제목</th>\n",
       "      <th>작가</th>\n",
       "      <th>출판일</th>\n",
       "    </tr>\n",
       "  </thead>\n",
       "  <tbody>\n",
       "    <tr>\n",
       "      <th>0</th>\n",
       "      <td>모두의 파이썬 (20일 만에 배우는 프로그래밍 기초)</td>\n",
       "      <td>이승찬</td>\n",
       "      <td>20181009</td>\n",
       "    </tr>\n",
       "    <tr>\n",
       "      <th>1</th>\n",
       "      <td>파이썬으로 데이터 주무르기 (독특한 예제를 통해 배우는 데이터 분석 입문)</td>\n",
       "      <td>민형기</td>\n",
       "      <td>20171229</td>\n",
       "    </tr>\n",
       "    <tr>\n",
       "      <th>2</th>\n",
       "      <td>파이썬 웹 프로그래밍 (Django장고로 배우는 쉽고 빠른 웹 개발)</td>\n",
       "      <td>김석훈</td>\n",
       "      <td>20180817</td>\n",
       "    </tr>\n",
       "  </tbody>\n",
       "</table>\n",
       "</div>"
      ],
      "text/plain": [
       "                                         책제목   작가       출판일\n",
       "0              모두의 파이썬 (20일 만에 배우는 프로그래밍 기초)  이승찬  20181009\n",
       "1  파이썬으로 데이터 주무르기 (독특한 예제를 통해 배우는 데이터 분석 입문)  민형기  20171229\n",
       "2     파이썬 웹 프로그래밍 (Django장고로 배우는 쉽고 빠른 웹 개발)  김석훈  20180817"
      ]
     },
     "execution_count": 26,
     "metadata": {},
     "output_type": "execute_result"
    }
   ],
   "source": [
    "get_dataframe(url)"
   ]
  },
  {
   "cell_type": "code",
   "execution_count": 27,
   "metadata": {},
   "outputs": [
    {
     "data": {
      "text/plain": [
       "[1, 101, 201]"
      ]
     },
     "execution_count": 27,
     "metadata": {},
     "output_type": "execute_result"
    }
   ],
   "source": [
    "[n for n in range(1,300,100)]"
   ]
  },
  {
   "cell_type": "code",
   "execution_count": 28,
   "metadata": {},
   "outputs": [],
   "source": [
    "result_search = []\n",
    "\n",
    "for n in range(1,300,100):\n",
    "    url = create_url(\"book\", \"파이썬\", n, 100)\n",
    "    result_search.append(get_dataframe(url))\n",
    "    \n",
    "result_search = pd.concat(result_search)"
   ]
  },
  {
   "cell_type": "code",
   "execution_count": 29,
   "metadata": {},
   "outputs": [
    {
     "data": {
      "text/html": [
       "<div>\n",
       "<style scoped>\n",
       "    .dataframe tbody tr th:only-of-type {\n",
       "        vertical-align: middle;\n",
       "    }\n",
       "\n",
       "    .dataframe tbody tr th {\n",
       "        vertical-align: top;\n",
       "    }\n",
       "\n",
       "    .dataframe thead th {\n",
       "        text-align: right;\n",
       "    }\n",
       "</style>\n",
       "<table border=\"1\" class=\"dataframe\">\n",
       "  <thead>\n",
       "    <tr style=\"text-align: right;\">\n",
       "      <th></th>\n",
       "      <th>책제목</th>\n",
       "      <th>작가</th>\n",
       "      <th>출판일</th>\n",
       "    </tr>\n",
       "  </thead>\n",
       "  <tbody>\n",
       "    <tr>\n",
       "      <th>0</th>\n",
       "      <td>모두의 파이썬 (20일 만에 배우는 프로그래밍 기초)</td>\n",
       "      <td>이승찬</td>\n",
       "      <td>20181009</td>\n",
       "    </tr>\n",
       "    <tr>\n",
       "      <th>1</th>\n",
       "      <td>파이썬으로 데이터 주무르기 (독특한 예제를 통해 배우는 데이터 분석 입문)</td>\n",
       "      <td>민형기</td>\n",
       "      <td>20171229</td>\n",
       "    </tr>\n",
       "    <tr>\n",
       "      <th>2</th>\n",
       "      <td>파이썬 웹 프로그래밍 (Django장고로 배우는 쉽고 빠른 웹 개발)</td>\n",
       "      <td>김석훈</td>\n",
       "      <td>20180817</td>\n",
       "    </tr>\n",
       "    <tr>\n",
       "      <th>3</th>\n",
       "      <td>파이썬 코딩 도장</td>\n",
       "      <td>남재윤</td>\n",
       "      <td>20181130</td>\n",
       "    </tr>\n",
       "    <tr>\n",
       "      <th>4</th>\n",
       "      <td>게임으로 배우는 파이썬</td>\n",
       "      <td>다나카 겐이치로</td>\n",
       "      <td>20190329</td>\n",
       "    </tr>\n",
       "  </tbody>\n",
       "</table>\n",
       "</div>"
      ],
      "text/plain": [
       "                                         책제목        작가       출판일\n",
       "0              모두의 파이썬 (20일 만에 배우는 프로그래밍 기초)       이승찬  20181009\n",
       "1  파이썬으로 데이터 주무르기 (독특한 예제를 통해 배우는 데이터 분석 입문)       민형기  20171229\n",
       "2     파이썬 웹 프로그래밍 (Django장고로 배우는 쉽고 빠른 웹 개발)       김석훈  20180817\n",
       "3                                  파이썬 코딩 도장       남재윤  20181130\n",
       "4                               게임으로 배우는 파이썬  다나카 겐이치로  20190329"
      ]
     },
     "execution_count": 29,
     "metadata": {},
     "output_type": "execute_result"
    }
   ],
   "source": [
    "result_search.head()"
   ]
  },
  {
   "cell_type": "code",
   "execution_count": 30,
   "metadata": {},
   "outputs": [
    {
     "name": "stdout",
     "output_type": "stream",
     "text": [
      "<class 'pandas.core.frame.DataFrame'>\n",
      "Int64Index: 300 entries, 0 to 99\n",
      "Data columns (total 3 columns):\n",
      "책제목    300 non-null object\n",
      "작가     300 non-null object\n",
      "출판일    300 non-null object\n",
      "dtypes: object(3)\n",
      "memory usage: 9.4+ KB\n"
     ]
    }
   ],
   "source": [
    "result_search.info()"
   ]
  },
  {
   "cell_type": "code",
   "execution_count": 31,
   "metadata": {},
   "outputs": [
    {
     "name": "stdout",
     "output_type": "stream",
     "text": [
      "<class 'pandas.core.frame.DataFrame'>\n",
      "RangeIndex: 300 entries, 0 to 299\n",
      "Data columns (total 3 columns):\n",
      "책제목    300 non-null object\n",
      "작가     300 non-null object\n",
      "출판일    300 non-null object\n",
      "dtypes: object(3)\n",
      "memory usage: 7.1+ KB\n"
     ]
    }
   ],
   "source": [
    "result_search = result_search.reset_index(drop=True)\n",
    "result_search.info()"
   ]
  },
  {
   "cell_type": "markdown",
   "metadata": {},
   "source": [
    "## 4-6. 엑셀에 저장하기"
   ]
  },
  {
   "cell_type": "code",
   "execution_count": 32,
   "metadata": {},
   "outputs": [],
   "source": [
    "writer = pd.ExcelWriter(\"./data/Python_book_info.xlsx\", engine='xlsxwriter')\n",
    "result_search.to_excel(writer, sheet_name='Sheet1')\n",
    "\n",
    "workbook  = writer.book\n",
    "worksheet = writer.sheets['Sheet1']\n",
    "\n",
    "format_center = workbook.add_format({'text_wrap': True})\n",
    "format_center.set_align('center')\n",
    "format_center.set_align('vcenter')\n",
    "\n",
    "worksheet.set_column('A:A', 5)\n",
    "worksheet.set_column('B:B', 90, format_center)\n",
    "worksheet.set_column('C:C', 40, format_center)\n",
    "worksheet.set_column('D:D', 15)\n",
    "\n",
    "writer.save()"
   ]
  },
  {
   "cell_type": "code",
   "execution_count": null,
   "metadata": {},
   "outputs": [],
   "source": []
  }
 ],
 "metadata": {
  "kernelspec": {
   "display_name": "Python 3",
   "language": "python",
   "name": "python3"
  },
  "language_info": {
   "codemirror_mode": {
    "name": "ipython",
    "version": 3
   },
   "file_extension": ".py",
   "mimetype": "text/x-python",
   "name": "python",
   "nbconvert_exporter": "python",
   "pygments_lexer": "ipython3",
   "version": "3.6.8"
  }
 },
 "nbformat": 4,
 "nbformat_minor": 2
}
